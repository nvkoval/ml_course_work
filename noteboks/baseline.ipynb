{
 "cells": [
  {
   "cell_type": "code",
   "execution_count": 243,
   "metadata": {},
   "outputs": [],
   "source": [
    "import numpy as np\n",
    "import pandas as pd\n",
    "import lightgbm as lgb\n",
    "import xgboost as xgb\n",
    "\n",
    "import matplotlib.pyplot as plt\n",
    "import seaborn as sns\n",
    "from sklearn.dummy import DummyRegressor\n",
    "from sklearn.ensemble import ExtraTreesRegressor, RandomForestRegressor\n",
    "from sklearn.metrics import mean_squared_log_error\n",
    "from sklearn.model_selection import train_test_split, KFold\n",
    "\n",
    "COLOR_FONT = 'dimgray'\n",
    "COLOR_PLOT = 'tan'\n",
    "\n",
    "plt.rcParams.update(\n",
    "    {\n",
    "        'figure.figsize': [5, 3],\n",
    "        'text.color': COLOR_FONT,\n",
    "        'axes.edgecolor': COLOR_FONT,\n",
    "        'axes.labelcolor': COLOR_FONT,\n",
    "        'axes.spines.top': False,\n",
    "        'axes.spines.right': False,\n",
    "        'axes.titlecolor': COLOR_FONT,\n",
    "        'axes.titlesize': 18,\n",
    "        'xaxis.labellocation': 'left',\n",
    "        'yaxis.labellocation': 'top',\n",
    "        'xtick.color': COLOR_FONT,\n",
    "        'ytick.color': COLOR_FONT,\n",
    "        'xtick.bottom': False,\n",
    "        'ytick.left': False,\n",
    "        'xtick.labelsize': 9,\n",
    "        'ytick.labelsize': 9,\n",
    "    }\n",
    ")"
   ]
  },
  {
   "cell_type": "code",
   "execution_count": 244,
   "metadata": {},
   "outputs": [
    {
     "data": {
      "text/html": [
       "<div>\n",
       "<style scoped>\n",
       "    .dataframe tbody tr th:only-of-type {\n",
       "        vertical-align: middle;\n",
       "    }\n",
       "\n",
       "    .dataframe tbody tr th {\n",
       "        vertical-align: top;\n",
       "    }\n",
       "\n",
       "    .dataframe thead th {\n",
       "        text-align: right;\n",
       "    }\n",
       "</style>\n",
       "<table border=\"1\" class=\"dataframe\">\n",
       "  <thead>\n",
       "    <tr style=\"text-align: right;\">\n",
       "      <th></th>\n",
       "      <th>id</th>\n",
       "      <th>price</th>\n",
       "      <th>address</th>\n",
       "      <th>coordinates</th>\n",
       "      <th>region</th>\n",
       "      <th>subway</th>\n",
       "      <th>floor</th>\n",
       "      <th>features</th>\n",
       "      <th>residential</th>\n",
       "      <th>neighborhood</th>\n",
       "      <th>description</th>\n",
       "      <th>detail</th>\n",
       "      <th>attributes</th>\n",
       "      <th>num_rooms</th>\n",
       "      <th>full_area</th>\n",
       "      <th>living_area</th>\n",
       "      <th>kitchen_area</th>\n",
       "      <th>num_storeys</th>\n",
       "    </tr>\n",
       "  </thead>\n",
       "  <tbody>\n",
       "    <tr>\n",
       "      <th>3752</th>\n",
       "      <td>11399927</td>\n",
       "      <td>18000</td>\n",
       "      <td>Ахматової Анни вул., 22</td>\n",
       "      <td>30.62496376,50.40853119</td>\n",
       "      <td>Київ,Дарницький р-н</td>\n",
       "      <td>Позняки</td>\n",
       "      <td>15</td>\n",
       "      <td>['Бетонно монолітний', 'Роздільне', 'Євроремонт']</td>\n",
       "      <td>ЖК  на вул. Ахматової, 22</td>\n",
       "      <td>NaN</td>\n",
       "      <td>Актуально! Можливі перегляди!\\n\\nПропонуємо в ...</td>\n",
       "      <td>Будинок - Бетонно монолітний, в квартирі 1 кім...</td>\n",
       "      <td>['Лічильники', 'Кондиціонер', 'Пральна машина'...</td>\n",
       "      <td>1</td>\n",
       "      <td>56.0</td>\n",
       "      <td>20.0</td>\n",
       "      <td>15.0</td>\n",
       "      <td>25</td>\n",
       "    </tr>\n",
       "    <tr>\n",
       "      <th>1401</th>\n",
       "      <td>11293734</td>\n",
       "      <td>29800</td>\n",
       "      <td>Берестейський пров. (Брест-Литовський), 5В</td>\n",
       "      <td>30.48665428,50.4465332</td>\n",
       "      <td>Київ,Шевченківський р-н</td>\n",
       "      <td>Вокзальна</td>\n",
       "      <td>22</td>\n",
       "      <td>['Українська цегла', 'Роздільне', 'Чудовий стан']</td>\n",
       "      <td>ЖК Victory V</td>\n",
       "      <td>['Міністерство освіти і науки', 'Універмаг Укр...</td>\n",
       "      <td>1к. просп. Берестейський (Перемоги) 5-В. ЖК \" ...</td>\n",
       "      <td>Будинок - Українська цегла, в квартирі 1 кімна...</td>\n",
       "      <td>NaN</td>\n",
       "      <td>1</td>\n",
       "      <td>46.0</td>\n",
       "      <td>19.5</td>\n",
       "      <td>15.0</td>\n",
       "      <td>33</td>\n",
       "    </tr>\n",
       "    <tr>\n",
       "      <th>8380</th>\n",
       "      <td>11350020</td>\n",
       "      <td>40500</td>\n",
       "      <td>Глибочицька вул., 73</td>\n",
       "      <td>30.50396919,50.46321487</td>\n",
       "      <td>Київ,Шевченківський р-н</td>\n",
       "      <td>Контрактова площа</td>\n",
       "      <td>16</td>\n",
       "      <td>['Бетонно монолітний', 'Роздільне', 'Дизайнерс...</td>\n",
       "      <td>NaN</td>\n",
       "      <td>['Радіовежа', 'Щекавиця', 'Поділ', 'Юрковиця']</td>\n",
       "      <td>Запрошуємо на перегляд, квартири з неймовірним...</td>\n",
       "      <td>Будинок - Бетонно монолітний, в квартирі 2 кім...</td>\n",
       "      <td>['Посудомийна машина', 'Кондиціонер', 'Мікрохв...</td>\n",
       "      <td>2</td>\n",
       "      <td>75.0</td>\n",
       "      <td>32.0</td>\n",
       "      <td>16.0</td>\n",
       "      <td>25</td>\n",
       "    </tr>\n",
       "  </tbody>\n",
       "</table>\n",
       "</div>"
      ],
      "text/plain": [
       "            id  price                                     address  \\\n",
       "3752  11399927  18000                     Ахматової Анни вул., 22   \n",
       "1401  11293734  29800  Берестейський пров. (Брест-Литовський), 5В   \n",
       "8380  11350020  40500                        Глибочицька вул., 73   \n",
       "\n",
       "                  coordinates                   region             subway  \\\n",
       "3752  30.62496376,50.40853119      Київ,Дарницький р-н            Позняки   \n",
       "1401   30.48665428,50.4465332  Київ,Шевченківський р-н          Вокзальна   \n",
       "8380  30.50396919,50.46321487  Київ,Шевченківський р-н  Контрактова площа   \n",
       "\n",
       "      floor                                           features  \\\n",
       "3752     15  ['Бетонно монолітний', 'Роздільне', 'Євроремонт']   \n",
       "1401     22  ['Українська цегла', 'Роздільне', 'Чудовий стан']   \n",
       "8380     16  ['Бетонно монолітний', 'Роздільне', 'Дизайнерс...   \n",
       "\n",
       "                    residential  \\\n",
       "3752  ЖК  на вул. Ахматової, 22   \n",
       "1401               ЖК Victory V   \n",
       "8380                        NaN   \n",
       "\n",
       "                                           neighborhood  \\\n",
       "3752                                                NaN   \n",
       "1401  ['Міністерство освіти і науки', 'Універмаг Укр...   \n",
       "8380     ['Радіовежа', 'Щекавиця', 'Поділ', 'Юрковиця']   \n",
       "\n",
       "                                            description  \\\n",
       "3752  Актуально! Можливі перегляди!\\n\\nПропонуємо в ...   \n",
       "1401  1к. просп. Берестейський (Перемоги) 5-В. ЖК \" ...   \n",
       "8380  Запрошуємо на перегляд, квартири з неймовірним...   \n",
       "\n",
       "                                                 detail  \\\n",
       "3752  Будинок - Бетонно монолітний, в квартирі 1 кім...   \n",
       "1401  Будинок - Українська цегла, в квартирі 1 кімна...   \n",
       "8380  Будинок - Бетонно монолітний, в квартирі 2 кім...   \n",
       "\n",
       "                                             attributes  num_rooms  full_area  \\\n",
       "3752  ['Лічильники', 'Кондиціонер', 'Пральна машина'...          1       56.0   \n",
       "1401                                                NaN          1       46.0   \n",
       "8380  ['Посудомийна машина', 'Кондиціонер', 'Мікрохв...          2       75.0   \n",
       "\n",
       "      living_area  kitchen_area  num_storeys  \n",
       "3752         20.0          15.0           25  \n",
       "1401         19.5          15.0           33  \n",
       "8380         32.0          16.0           25  "
      ]
     },
     "execution_count": 244,
     "metadata": {},
     "output_type": "execute_result"
    }
   ],
   "source": [
    "data = pd.read_csv('../data/real_estate_clean.csv')\n",
    "data.sample(3)"
   ]
  },
  {
   "cell_type": "code",
   "execution_count": 245,
   "metadata": {},
   "outputs": [
    {
     "name": "stdout",
     "output_type": "stream",
     "text": [
      "<class 'pandas.core.frame.DataFrame'>\n",
      "RangeIndex: 10800 entries, 0 to 10799\n",
      "Data columns (total 18 columns):\n",
      " #   Column        Non-Null Count  Dtype  \n",
      "---  ------        --------------  -----  \n",
      " 0   id            10800 non-null  int64  \n",
      " 1   price         10800 non-null  int64  \n",
      " 2   address       10800 non-null  object \n",
      " 3   coordinates   10694 non-null  object \n",
      " 4   region        10800 non-null  object \n",
      " 5   subway        8747 non-null   object \n",
      " 6   floor         10800 non-null  int64  \n",
      " 7   features      10800 non-null  object \n",
      " 8   residential   5310 non-null   object \n",
      " 9   neighborhood  9802 non-null   object \n",
      " 10  description   10800 non-null  object \n",
      " 11  detail        10799 non-null  object \n",
      " 12  attributes    6986 non-null   object \n",
      " 13  num_rooms     10800 non-null  int64  \n",
      " 14  full_area     10800 non-null  float64\n",
      " 15  living_area   10800 non-null  float64\n",
      " 16  kitchen_area  10800 non-null  float64\n",
      " 17  num_storeys   10800 non-null  int64  \n",
      "dtypes: float64(3), int64(5), object(10)\n",
      "memory usage: 1.5+ MB\n"
     ]
    }
   ],
   "source": [
    "data.info()"
   ]
  },
  {
   "cell_type": "markdown",
   "metadata": {},
   "source": [
    "Our target is `price`"
   ]
  },
  {
   "cell_type": "code",
   "execution_count": 246,
   "metadata": {},
   "outputs": [
    {
     "data": {
      "image/png": "[encoded data removed]",
      "text/plain": [
       "<Figure size 500x300 with 1 Axes>"
      ]
     },
     "metadata": {},
     "output_type": "display_data"
    }
   ],
   "source": [
    "data['price'].hist(bins=30, grid=False, color=COLOR_PLOT)\n",
    "plt.show()"
   ]
  },
  {
   "cell_type": "code",
   "execution_count": 247,
   "metadata": {},
   "outputs": [
    {
     "data": {
      "text/plain": [
       "count    1.080000e+04\n",
       "mean     4.513935e+04\n",
       "std      4.735896e+05\n",
       "min      2.000000e+03\n",
       "25%      1.550000e+04\n",
       "50%      2.500000e+04\n",
       "75%      4.460000e+04\n",
       "max      4.659550e+07\n",
       "Name: price, dtype: float64"
      ]
     },
     "execution_count": 247,
     "metadata": {},
     "output_type": "execute_result"
    }
   ],
   "source": [
    "data['price'].describe()"
   ]
  },
  {
   "cell_type": "code",
   "execution_count": 248,
   "metadata": {},
   "outputs": [
    {
     "data": {
      "image/png": "[encoded data removed]",
      "text/plain": [
       "<Figure size 500x300 with 1 Axes>"
      ]
     },
     "metadata": {},
     "output_type": "display_data"
    }
   ],
   "source": [
    "sns.boxplot(data['price'], orient='h', color=COLOR_PLOT)\n",
    "plt.show()"
   ]
  },
  {
   "cell_type": "markdown",
   "metadata": {},
   "source": [
    "It's very skewed data. Let's drop outliers."
   ]
  },
  {
   "cell_type": "code",
   "execution_count": 249,
   "metadata": {},
   "outputs": [
    {
     "data": {
      "text/plain": [
       "price\n",
       "2000        1\n",
       "2500        2\n",
       "3000        2\n",
       "3500        1\n",
       "3999        1\n",
       "           ..\n",
       "5822300     1\n",
       "6405600     1\n",
       "6689400     1\n",
       "7901000     1\n",
       "46595500    1\n",
       "Name: count, Length: 685, dtype: int64"
      ]
     },
     "execution_count": 249,
     "metadata": {},
     "output_type": "execute_result"
    }
   ],
   "source": [
    "data['price'].value_counts().sort_index()"
   ]
  },
  {
   "cell_type": "code",
   "execution_count": 250,
   "metadata": {},
   "outputs": [
    {
     "data": {
      "text/plain": [
       "price\n",
       "2000     1\n",
       "2500     2\n",
       "3000     2\n",
       "3500     1\n",
       "3999     1\n",
       "4000     5\n",
       "4500     3\n",
       "5000    13\n",
       "5400     1\n",
       "5500    10\n",
       "Name: count, dtype: int64"
      ]
     },
     "execution_count": 250,
     "metadata": {},
     "output_type": "execute_result"
    }
   ],
   "source": [
    "data['price'].value_counts().sort_index()[:10]"
   ]
  },
  {
   "cell_type": "code",
   "execution_count": 251,
   "metadata": {},
   "outputs": [
    {
     "data": {
      "text/plain": [
       "3699.3505"
      ]
     },
     "execution_count": 251,
     "metadata": {},
     "output_type": "execute_result"
    }
   ],
   "source": [
    "np.percentile(data['price'], q=0.05)"
   ]
  },
  {
   "cell_type": "code",
   "execution_count": 252,
   "metadata": {},
   "outputs": [
    {
     "data": {
      "text/plain": [
       "4000.0"
      ]
     },
     "execution_count": 252,
     "metadata": {},
     "output_type": "execute_result"
    }
   ],
   "source": [
    "np.percentile(data['price'], q=0.1)"
   ]
  },
  {
   "cell_type": "code",
   "execution_count": 253,
   "metadata": {},
   "outputs": [
    {
     "data": {
      "text/plain": [
       "6000.0"
      ]
     },
     "execution_count": 253,
     "metadata": {},
     "output_type": "execute_result"
    }
   ],
   "source": [
    "np.percentile(data['price'], q=0.5)"
   ]
  },
  {
   "cell_type": "code",
   "execution_count": 254,
   "metadata": {},
   "outputs": [
    {
     "data": {
      "text/plain": [
       "price\n",
       "393400      1\n",
       "396700      1\n",
       "405200      2\n",
       "405400      2\n",
       "425700      1\n",
       "428900      1\n",
       "445700      1\n",
       "446000      1\n",
       "486500      1\n",
       "526700      1\n",
       "527000      1\n",
       "584800      1\n",
       "607800      2\n",
       "608100      1\n",
       "769800      1\n",
       "1335900     1\n",
       "2201400     1\n",
       "2627100     1\n",
       "3790700     1\n",
       "5643400     1\n",
       "5822300     1\n",
       "6405600     1\n",
       "6689400     1\n",
       "7901000     1\n",
       "46595500    1\n",
       "Name: count, dtype: int64"
      ]
     },
     "execution_count": 254,
     "metadata": {},
     "output_type": "execute_result"
    }
   ],
   "source": [
    "data['price'].value_counts().sort_index()[-25:]"
   ]
  },
  {
   "cell_type": "code",
   "execution_count": 255,
   "metadata": {},
   "outputs": [
    {
     "data": {
      "text/plain": [
       "198721.00000000047"
      ]
     },
     "execution_count": 255,
     "metadata": {},
     "output_type": "execute_result"
    }
   ],
   "source": [
    "np.percentile(data['price'], q=99)"
   ]
  },
  {
   "cell_type": "code",
   "execution_count": 256,
   "metadata": {},
   "outputs": [
    {
     "data": {
      "text/plain": [
       "263400.49999999994"
      ]
     },
     "execution_count": 256,
     "metadata": {},
     "output_type": "execute_result"
    }
   ],
   "source": [
    "np.percentile(data['price'], q=99.5)"
   ]
  },
  {
   "cell_type": "code",
   "execution_count": 257,
   "metadata": {},
   "outputs": [
    {
     "data": {
      "text/plain": [
       "413560.6000000009"
      ]
     },
     "execution_count": 257,
     "metadata": {},
     "output_type": "execute_result"
    }
   ],
   "source": [
    "np.percentile(data['price'], q=99.8)"
   ]
  },
  {
   "cell_type": "code",
   "execution_count": 258,
   "metadata": {},
   "outputs": [
    {
     "data": {
      "text/plain": [
       "518720.29999998305"
      ]
     },
     "execution_count": 258,
     "metadata": {},
     "output_type": "execute_result"
    }
   ],
   "source": [
    "np.percentile(data['price'], q=99.85)"
   ]
  },
  {
   "cell_type": "code",
   "execution_count": 259,
   "metadata": {},
   "outputs": [
    {
     "data": {
      "text/plain": [
       "640601.7000001506"
      ]
     },
     "execution_count": 259,
     "metadata": {},
     "output_type": "execute_result"
    }
   ],
   "source": [
    "np.percentile(data['price'], q=99.9)"
   ]
  },
  {
   "cell_type": "code",
   "execution_count": 260,
   "metadata": {},
   "outputs": [
    {
     "data": {
      "text/plain": [
       "4903246.350000863"
      ]
     },
     "execution_count": 260,
     "metadata": {},
     "output_type": "execute_result"
    }
   ],
   "source": [
    "np.percentile(data['price'], q=99.95)"
   ]
  },
  {
   "cell_type": "code",
   "execution_count": 261,
   "metadata": {},
   "outputs": [
    {
     "data": {
      "text/plain": [
       "price\n",
       "3999       1\n",
       "4000       5\n",
       "4500       3\n",
       "5000      13\n",
       "5400       1\n",
       "          ..\n",
       "313400     1\n",
       "317400     2\n",
       "320100     1\n",
       "323900     1\n",
       "324300     2\n",
       "Name: count, Length: 655, dtype: int64"
      ]
     },
     "execution_count": 261,
     "metadata": {},
     "output_type": "execute_result"
    }
   ],
   "source": [
    "(data[(data['price'] > np.percentile(data['price'], q=0.05))\n",
    "     & (data['price'] < np.percentile(data['price'], q=99.74))]\n",
    "     ['price']\n",
    "     .value_counts()\n",
    "     .sort_index())"
   ]
  },
  {
   "cell_type": "code",
   "execution_count": 262,
   "metadata": {},
   "outputs": [],
   "source": [
    "data = (data[(data['price'] > np.percentile(data['price'], q=0.05))\n",
    "             & (data['price'] < np.percentile(data['price'], q=99.74))])"
   ]
  },
  {
   "cell_type": "code",
   "execution_count": 263,
   "metadata": {},
   "outputs": [
    {
     "data": {
      "text/plain": [
       "(10765, 18)"
      ]
     },
     "execution_count": 263,
     "metadata": {},
     "output_type": "execute_result"
    }
   ],
   "source": [
    "data.shape"
   ]
  },
  {
   "cell_type": "code",
   "execution_count": 264,
   "metadata": {},
   "outputs": [],
   "source": [
    "data.to_csv('../data/real_estate_clean_drop_outliers.csv', index=False)"
   ]
  },
  {
   "cell_type": "code",
   "execution_count": 265,
   "metadata": {},
   "outputs": [
    {
     "data": {
      "image/png": "[encoded data removed]",
      "text/plain": [
       "<Figure size 500x300 with 1 Axes>"
      ]
     },
     "metadata": {},
     "output_type": "display_data"
    }
   ],
   "source": [
    "data['price'].hist(bins=30, grid=False, color=COLOR_PLOT)\n",
    "plt.xticks(rotation=90)\n",
    "plt.show()"
   ]
  },
  {
   "cell_type": "markdown",
   "metadata": {},
   "source": [
    "Let's use logarithm."
   ]
  },
  {
   "cell_type": "code",
   "execution_count": 266,
   "metadata": {},
   "outputs": [],
   "source": [
    "data['price_log'] = np.log(data['price'])"
   ]
  },
  {
   "cell_type": "code",
   "execution_count": 267,
   "metadata": {},
   "outputs": [
    {
     "data": {
      "image/png": "[encoded data removed]",
      "text/plain": [
       "<Figure size 1000x700 with 4 Axes>"
      ]
     },
     "metadata": {},
     "output_type": "display_data"
    }
   ],
   "source": [
    "fig = plt.figure(layout='constrained', figsize=(10, 7))\n",
    "\n",
    "subfigs = fig.subfigures(nrows=2, ncols=1)\n",
    "targets = ['price', 'price_log']\n",
    "for subfig, target in zip(subfigs, targets):\n",
    "    subfig.suptitle(target, fontsize=16)\n",
    "    axs = subfig.subplots(nrows=1, ncols=2)\n",
    "    sns.histplot(data[target], ax=axs[0], bins=30, color=COLOR_PLOT)\n",
    "    sns.boxplot(data[target], ax=axs[1], orient='h', color=COLOR_PLOT)\n",
    "    for ax in axs:\n",
    "        ax.set(xlabel='', ylabel='')\n",
    "\n",
    "plt.show()\n"
   ]
  },
  {
   "cell_type": "markdown",
   "metadata": {},
   "source": [
    "### Baseline\n",
    "\n",
    "metric: RMSLE \n",
    "\n",
    "cross_validation: KFold"
   ]
  },
  {
   "cell_type": "code",
   "execution_count": 268,
   "metadata": {},
   "outputs": [],
   "source": [
    "def get_train_test(df, feats, log=False):\n",
    "    X = df[feats]\n",
    "    if log:\n",
    "        y = np.log1p(df['price'])\n",
    "    else:\n",
    "        y = df['price']\n",
    "    X_train, X_test, y_train, y_test = train_test_split(X, y, test_size=0.2,\n",
    "                                                        random_state=24)\n",
    "    return X_train, X_test, y_train, y_test\n",
    "\n",
    "\n",
    "def get_X_y(df, features):\n",
    "    X = df[features]\n",
    "    y = df['price']\n",
    "    return X, y\n",
    "\n",
    "\n",
    "def rmsle_score(y_true, y_pred):\n",
    "    return mean_squared_log_error(y_true, y_pred, squared=False)\n",
    "\n",
    "\n",
    "def calc_train_error(X_train, y_train, model, metric, target_log):\n",
    "    '''returns in-sample error for already fit model.'''\n",
    "    y_pred = model.predict(X_train)\n",
    "    if target_log:\n",
    "        y_pred = np.exp(y_pred)\n",
    "        y_train = np.exp(y_train)\n",
    "    y_pred[y_pred < 0] = 0\n",
    "    return metric(y_train, y_pred)\n",
    "\n",
    "\n",
    "def calc_validation_error(X_test, y_test, model, metric, target_log):\n",
    "    '''returns out-of-sample error for already fit model.'''\n",
    "    y_pred = model.predict(X_test)\n",
    "    if target_log:\n",
    "        y_pred = np.exp(y_pred)\n",
    "    y_pred[y_pred < 0] = 0\n",
    "    return metric(y_test, y_pred)\n",
    "\n",
    "\n",
    "def calc_metrics(X_train, y_train, X_test, y_test, model, metric, target_log):\n",
    "    '''fits model and returns the RMSLE for in-sample error and out-of-sample error'''\n",
    "    if target_log:\n",
    "        y_train = np.log(y_train)\n",
    "    model.fit(X_train, y_train)\n",
    "    train_error = calc_train_error(X_train, y_train, model, metric, target_log)\n",
    "    validation_error = calc_validation_error(X_test, y_test, model, metric, target_log)\n",
    "    return train_error, validation_error\n",
    "\n",
    "\n",
    "def run_cv(model, X, y, folds=3, target_log=False, cv_type=KFold, success_metric=rmsle_score):\n",
    "    cv = cv_type(n_splits=folds, shuffle=True, random_state=24)\n",
    "\n",
    "    train_scores = []\n",
    "    test_scores = []\n",
    "    k = 0\n",
    "    for train_idx, test_idx in cv.split(X, y):\n",
    "        X_train, X_test = X.iloc[train_idx, :], X.iloc[test_idx, :]\n",
    "        y_train, y_test = y.iloc[train_idx], y.iloc[test_idx]\n",
    "\n",
    "        train_score, test_score = calc_metrics(X_train, y_train, X_test, y_test,\n",
    "                                               model, success_metric, target_log)\n",
    "        print(f\"[Fold {k}] train_rmsle: {train_score:.4f}, test_rmsle: {test_score:.4f}\")\n",
    "        train_scores.append(train_score)\n",
    "        test_scores.append(test_score)\n",
    "        k += 1\n",
    "\n",
    "    print(f\"RMSLE: {np.mean(test_scores):.4f} ± {np.std(test_scores):.4f}\")\n",
    "    return"
   ]
  },
  {
   "cell_type": "code",
   "execution_count": 269,
   "metadata": {},
   "outputs": [
    {
     "data": {
      "text/plain": [
       "Index(['id', 'price', 'address', 'coordinates', 'region', 'subway', 'floor',\n",
       "       'features', 'residential', 'neighborhood', 'description', 'detail',\n",
       "       'attributes', 'num_rooms', 'full_area', 'living_area', 'kitchen_area',\n",
       "       'num_storeys', 'price_log'],\n",
       "      dtype='object')"
      ]
     },
     "execution_count": 269,
     "metadata": {},
     "output_type": "execute_result"
    }
   ],
   "source": [
    "data.columns"
   ]
  },
  {
   "cell_type": "code",
   "execution_count": 270,
   "metadata": {},
   "outputs": [],
   "source": [
    "black_list = ['id', 'price', 'price_log']\n",
    "\n",
    "num_feats = [col for col in data.select_dtypes(exclude='object').columns\n",
    "             if col not in black_list]"
   ]
  },
  {
   "cell_type": "code",
   "execution_count": 271,
   "metadata": {},
   "outputs": [
    {
     "data": {
      "text/plain": [
       "['floor',\n",
       " 'num_rooms',\n",
       " 'full_area',\n",
       " 'living_area',\n",
       " 'kitchen_area',\n",
       " 'num_storeys']"
      ]
     },
     "execution_count": 271,
     "metadata": {},
     "output_type": "execute_result"
    }
   ],
   "source": [
    "num_feats"
   ]
  },
  {
   "cell_type": "code",
   "execution_count": 272,
   "metadata": {},
   "outputs": [],
   "source": [
    "X_train, X_test, y_train, y_test = get_train_test(data, num_feats, log=False)"
   ]
  },
  {
   "cell_type": "code",
   "execution_count": 273,
   "metadata": {},
   "outputs": [
    {
     "name": "stdout",
     "output_type": "stream",
     "text": [
      "[Fold 0] train_rmsle: 0.7885, test_rmsle: 0.7789\n",
      "[Fold 1] train_rmsle: 0.7833, test_rmsle: 0.8004\n",
      "[Fold 2] train_rmsle: 0.7802, test_rmsle: 0.7740\n",
      "RMSLE: 0.7844 ± 0.0114\n"
     ]
    }
   ],
   "source": [
    "model = DummyRegressor(strategy='mean')\n",
    "\n",
    "run_cv(model, X_train, y_train,\n",
    "       folds=3, target_log=False,\n",
    "       cv_type=KFold, success_metric=rmsle_score)"
   ]
  },
  {
   "cell_type": "code",
   "execution_count": 274,
   "metadata": {},
   "outputs": [
    {
     "name": "stdout",
     "output_type": "stream",
     "text": [
      "[Fold 0] train_rmsle: 0.7348, test_rmsle: 0.7240\n",
      "[Fold 1] train_rmsle: 0.7322, test_rmsle: 0.7293\n",
      "[Fold 2] train_rmsle: 0.7270, test_rmsle: 0.7408\n",
      "RMSLE: 0.7314 ± 0.0070\n"
     ]
    }
   ],
   "source": [
    "model = DummyRegressor(strategy='median')\n",
    "\n",
    "run_cv(model, X_train, y_train,\n",
    "       folds=3, target_log=False,\n",
    "       cv_type=KFold, success_metric=rmsle_score)"
   ]
  },
  {
   "cell_type": "code",
   "execution_count": 275,
   "metadata": {},
   "outputs": [
    {
     "name": "stdout",
     "output_type": "stream",
     "text": [
      "[Fold 0] train_rmsle: 0.4823, test_rmsle: 0.4809\n",
      "[Fold 1] train_rmsle: 0.4745, test_rmsle: 0.4883\n",
      "[Fold 2] train_rmsle: 0.4733, test_rmsle: 0.4894\n",
      "RMSLE: 0.4862 ± 0.0038\n"
     ]
    }
   ],
   "source": [
    "model = ExtraTreesRegressor(max_depth=6, random_state=24)\n",
    "\n",
    "run_cv(model, X_train, y_train,\n",
    "       folds=3, target_log=False,\n",
    "       cv_type=KFold, success_metric=rmsle_score)"
   ]
  },
  {
   "cell_type": "code",
   "execution_count": 276,
   "metadata": {},
   "outputs": [
    {
     "name": "stdout",
     "output_type": "stream",
     "text": [
      "[Fold 0] train_rmsle: 0.4389, test_rmsle: 0.4478\n",
      "[Fold 1] train_rmsle: 0.4340, test_rmsle: 0.4574\n",
      "[Fold 2] train_rmsle: 0.4294, test_rmsle: 0.4599\n",
      "RMSLE: 0.4550 ± 0.0052\n"
     ]
    }
   ],
   "source": [
    "model = RandomForestRegressor(max_depth=6, random_state=24)\n",
    "\n",
    "run_cv(model, X_train, y_train,\n",
    "       folds=3, target_log=False,\n",
    "       cv_type=KFold, success_metric=rmsle_score)"
   ]
  },
  {
   "cell_type": "code",
   "execution_count": 277,
   "metadata": {},
   "outputs": [
    {
     "name": "stdout",
     "output_type": "stream",
     "text": [
      "[Fold 0] train_rmsle: 0.4199, test_rmsle: 0.4297\n",
      "[Fold 1] train_rmsle: 0.4146, test_rmsle: 0.4399\n",
      "[Fold 2] train_rmsle: 0.4115, test_rmsle: 0.4466\n",
      "RMSLE: 0.4387 ± 0.0070\n"
     ]
    }
   ],
   "source": [
    "model = RandomForestRegressor(max_depth=6, random_state=24)\n",
    "\n",
    "run_cv(model, X_train, y_train,\n",
    "       folds=3, target_log=True,\n",
    "       cv_type=KFold, success_metric=rmsle_score)"
   ]
  },
  {
   "cell_type": "code",
   "execution_count": 278,
   "metadata": {},
   "outputs": [
    {
     "name": "stdout",
     "output_type": "stream",
     "text": [
      "[Fold 0] train_rmsle: 0.3666, test_rmsle: 0.4265\n",
      "[Fold 1] train_rmsle: 0.3624, test_rmsle: 0.4409\n",
      "[Fold 2] train_rmsle: 0.3591, test_rmsle: 0.4427\n",
      "RMSLE: 0.4367 ± 0.0073\n"
     ]
    }
   ],
   "source": [
    "parameters_xgb = {\n",
    "    'objective': 'reg:squarederror',\n",
    "    'eval_metric': 'rmsle',\n",
    "    'eta': 0.1,\n",
    "    'verbosity': 1,\n",
    "    'seed': 24,\n",
    "    'tree_method': 'hist',\n",
    "    'grow_policy': 'lossguide',\n",
    "\n",
    "    'max_depth': 6,\n",
    "    'subsample': 0.7,\n",
    "}\n",
    "model = xgb.XGBRegressor(**parameters_xgb)\n",
    "\n",
    "run_cv(model, X_train, y_train,\n",
    "       folds=3, target_log=False, cv_type=KFold,\n",
    "       success_metric=rmsle_score)"
   ]
  },
  {
   "cell_type": "code",
   "execution_count": 279,
   "metadata": {},
   "outputs": [
    {
     "name": "stdout",
     "output_type": "stream",
     "text": [
      "[Fold 0] train_rmsle: 0.3282, test_rmsle: 0.4099\n",
      "[Fold 1] train_rmsle: 0.3226, test_rmsle: 0.4214\n",
      "[Fold 2] train_rmsle: 0.3172, test_rmsle: 0.4235\n",
      "RMSLE: 0.4183 ± 0.0060\n"
     ]
    }
   ],
   "source": [
    "run_cv(model, X_train, y_train,\n",
    "       folds=3, target_log=True, cv_type=KFold,\n",
    "       success_metric=rmsle_score)"
   ]
  },
  {
   "cell_type": "code",
   "execution_count": 280,
   "metadata": {},
   "outputs": [
    {
     "name": "stdout",
     "output_type": "stream",
     "text": [
      "[Fold 0] train_rmsle: 0.4558, test_rmsle: 0.4525\n",
      "[Fold 1] train_rmsle: 0.4481, test_rmsle: 0.4609\n",
      "[Fold 2] train_rmsle: 0.4446, test_rmsle: 0.4643\n",
      "RMSLE: 0.4592 ± 0.0050\n"
     ]
    }
   ],
   "source": [
    "parameters_lgb = {\n",
    "    'objective': 'regression',\n",
    "    'metric': 'rmse',\n",
    "    'learning_rate': 0.1,\n",
    "    'random_state': 24,\n",
    "    'verbose': 0,\n",
    "    'force_col_wise': True,\n",
    "\n",
    "    'max_depth': 6,\n",
    "    'num_leaves': 5,\n",
    "    'subsample': 0.6,\n",
    "    'subsample_freq': 1\n",
    "}\n",
    "\n",
    "model = lgb.LGBMRegressor(**parameters_lgb)\n",
    "\n",
    "run_cv(model, X_train, y_train,\n",
    "       folds=3, target_log=False, cv_type=KFold,\n",
    "       success_metric=rmsle_score)"
   ]
  },
  {
   "cell_type": "code",
   "execution_count": 281,
   "metadata": {},
   "outputs": [
    {
     "name": "stdout",
     "output_type": "stream",
     "text": [
      "[Fold 0] train_rmsle: 0.4235, test_rmsle: 0.4217\n",
      "[Fold 1] train_rmsle: 0.4179, test_rmsle: 0.4369\n",
      "[Fold 2] train_rmsle: 0.4164, test_rmsle: 0.4368\n",
      "RMSLE: 0.4318 ± 0.0072\n"
     ]
    }
   ],
   "source": [
    "run_cv(model, X_train, y_train,\n",
    "       folds=3, target_log=True, cv_type=KFold,\n",
    "       success_metric=rmsle_score)"
   ]
  }
 ],
 "metadata": {
  "kernelspec": {
   "display_name": ".venv",
   "language": "python",
   "name": "python3"
  },
  "language_info": {
   "codemirror_mode": {
    "name": "ipython",
    "version": 3
   },
   "file_extension": ".py",
   "mimetype": "text/x-python",
   "name": "python",
   "nbconvert_exporter": "python",
   "pygments_lexer": "ipython3",
   "version": "3.10.13"
  }
 },
 "nbformat": 4,
 "nbformat_minor": 2
}
